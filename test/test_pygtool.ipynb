{
 "cells": [
  {
   "cell_type": "code",
   "execution_count": 1,
   "metadata": {},
   "outputs": [],
   "source": [
    "import sys\n",
    "sys.path.append('../pygtool3/')\n",
    "import pygtool\n",
    "import pygtool_core\n",
    "import matplotlib.pyplot as plt\n",
    "import cartopy.crs as ccrs\n",
    "import numpy as np\n",
    "import pandas as pd"
   ]
  },
  {
   "cell_type": "markdown",
   "metadata": {},
   "source": [
    "# read 2D and 3D data "
   ]
  },
  {
   "cell_type": "code",
   "execution_count": 2,
   "metadata": {},
   "outputs": [],
   "source": [
    "bc=pygtool.read3d('./sampledata/mc_bc.clim',count=4)\n",
    "ps=pygtool.read2d('./sampledata/ps.clim',count=4)\n",
    "t=pygtool.read3d('./sampledata/T.clim',count=4)"
   ]
  },
  {
   "cell_type": "code",
   "execution_count": null,
   "metadata": {},
   "outputs": [],
   "source": [
    "print('get model values')\n",
    "print(bc.getarr().shape)\n",
    "print(ps.getarr(timestep=1).shape)\n",
    "print(t.getarr(cyclic=True).shape)"
   ]
  },
  {
   "cell_type": "code",
   "execution_count": null,
   "metadata": {},
   "outputs": [],
   "source": [
    "print('get_Datetimeindex')\n",
    "print(bc.getdatetimeindex())\n",
    "for i in range(4):\n",
    "    print(bc.getdate(timestep=i))"
   ]
  },
  {
   "cell_type": "code",
   "execution_count": null,
   "metadata": {},
   "outputs": [],
   "source": [
    "print('get all data into array')\n",
    "print('3D',bc.getarrays(cyclic=True).shape)\n",
    "print('2D',ps.getarrays().shape)"
   ]
  },
  {
   "cell_type": "markdown",
   "metadata": {},
   "source": [
    "# read model coordinate\n",
    "## horizontal"
   ]
  },
  {
   "cell_type": "code",
   "execution_count": null,
   "metadata": {},
   "outputs": [],
   "source": [
    "print('read t42')\n",
    "grid=pygtool.readgrid()\n",
    "print('constructor')\n",
    "print(grid)\n",
    "lon,lat=grid.getlonlat()\n",
    "lonm,latm=grid.getlonlat(cyclic=True)\n",
    "print(lon.shape,lat.shape,lonm.shape,latm.shape)\n",
    "xx,yy=grid.getmesh()\n",
    "print(xx.shape,yy.shape)\n",
    "print('area caliculation')\n",
    "area=grid.getarea()\n",
    "print(area.sum())\n",
    "\n",
    "print('\\nread t85')\n",
    "grid2=pygtool.readgrid(lonfile='GTAXLOC.GLON256',latfile='GTAXLOC.GGLA128',x=256,y=128)\n",
    "print(grid2)\n",
    "lon2,lat2=grid2.getlonlat()\n",
    "lonm2,latm2=grid2.getlonlat(cyclic=True)\n",
    "print(lon2.shape,lat2.shape,lonm2.shape,latm2.shape)\n",
    "xx2,yy2=grid2.getmesh()\n",
    "print(xx2.shape,yy2.shape)\n",
    "print('area caliculation')\n",
    "area2=grid2.getarea()\n",
    "print(area2.sum())"
   ]
  },
  {
   "cell_type": "markdown",
   "metadata": {},
   "source": [
    "## vertical(sigma)"
   ]
  },
  {
   "cell_type": "code",
   "execution_count": null,
   "metadata": {},
   "outputs": [],
   "source": []
  },
  {
   "cell_type": "code",
   "execution_count": null,
   "metadata": {},
   "outputs": [],
   "source": [
    "print('vertical coordinate layer 36')\n",
    "sigma=pygtool.readsigma()\n",
    "print(sigma)\n",
    "print('get pressure by ps(Gtool2d)')\n",
    "print(sigma.get_pressure(ps,timestep=1)[0,0,0])\n",
    "print('get pressure by ps(numpy.ndarray)')\n",
    "print(sigma.get_pressure(ps.getarr(timestep=1))[0,0,0])\n",
    "\n",
    "print('\\n layer57')\n",
    "sigma2=pygtool.readsigma(z=57,gtaxfile='GTAXLOC.CETA57')\n",
    "print('get pressure by ps(Gtool2d)')\n",
    "print(sigma2.get_pressure(ps,timestep=1)[0,0,0])\n",
    "print('get pressure by ps(numpy.ndarray)')\n",
    "print(sigma2.get_pressure(ps.getarr(timestep=1))[0,0,0])"
   ]
  },
  {
   "cell_type": "markdown",
   "metadata": {},
   "source": [
    "## vertical(P)"
   ]
  },
  {
   "cell_type": "code",
   "execution_count": null,
   "metadata": {},
   "outputs": [],
   "source": [
    "print('vertical coodinate(P-grid)')\n",
    "P=pygtool.readpressure()\n",
    "print(P)\n",
    "print('get pressure')\n",
    "print(P.get_pressure()[:,0,0])"
   ]
  },
  {
   "cell_type": "code",
   "execution_count": null,
   "metadata": {},
   "outputs": [],
   "source": [
    "print('vertical coodinate(P-grid,boundary) ')\n",
    "PM=pygtool.readpressure(z=36,gtaxfile='GTAXLOC.AR5PL35.M')\n",
    "print(PM)\n",
    "print('get dp')\n",
    "print(PM.get_dp()[:,0,0])"
   ]
  },
  {
   "cell_type": "code",
   "execution_count": null,
   "metadata": {},
   "outputs": [],
   "source": []
  },
  {
   "cell_type": "markdown",
   "metadata": {},
   "source": [
    "# gtool3 => xarray"
   ]
  },
  {
   "cell_type": "code",
   "execution_count": null,
   "metadata": {},
   "outputs": [],
   "source": [
    "ds=bc.to_xarray(lon=lon,lat=lat,sigma=sigma.ss,creator='onishi')\n",
    "ds"
   ]
  },
  {
   "cell_type": "code",
   "execution_count": null,
   "metadata": {},
   "outputs": [],
   "source": [
    "fig=plt.figure(figsize=(10,5),facecolor='w')\n",
    "ax=fig.add_subplot(1,1,1,projection=ccrs.PlateCarree(central_longitude=180))\n",
    "pygtool.ckit.set_geogrid(ax)\n",
    "ds['CONBT'].isel(time=2,sigma=0).plot.contourf(ax=ax,transform=ccrs.PlateCarree())\n"
   ]
  },
  {
   "cell_type": "code",
   "execution_count": null,
   "metadata": {},
   "outputs": [],
   "source": [
    "bc.getdatetimeindex()"
   ]
  },
  {
   "cell_type": "code",
   "execution_count": null,
   "metadata": {},
   "outputs": [],
   "source": [
    "P=pygtool.readpressure()\n",
    "P"
   ]
  },
  {
   "cell_type": "code",
   "execution_count": null,
   "metadata": {},
   "outputs": [],
   "source": [
    "P.get_pressure().shape"
   ]
  },
  {
   "cell_type": "code",
   "execution_count": null,
   "metadata": {},
   "outputs": [],
   "source": [
    "PM=pygtool.readpressure(z=36,gtaxfile='GTAXLOC.AR5PL35.M')"
   ]
  },
  {
   "cell_type": "code",
   "execution_count": null,
   "metadata": {},
   "outputs": [],
   "source": [
    "PM.get_dp().shape"
   ]
  },
  {
   "cell_type": "markdown",
   "metadata": {},
   "source": [
    "# python =>gtool"
   ]
  },
  {
   "cell_type": "code",
   "execution_count": null,
   "metadata": {},
   "outputs": [],
   "source": [
    "a=0"
   ]
  },
  {
   "cell_type": "code",
   "execution_count": 3,
   "metadata": {},
   "outputs": [
    {
     "data": {
      "text/plain": [
       "0"
      ]
     },
     "execution_count": 3,
     "metadata": {},
     "output_type": "execute_result"
    }
   ],
   "source": [
    "gtool=pygtool_core.Gtool()\n",
    "gtool.set_sampleheader(sample=bc.getheader())"
   ]
  },
  {
   "cell_type": "code",
   "execution_count": 4,
   "metadata": {},
   "outputs": [
    {
     "data": {
      "text/plain": [
       "DatetimeIndex(['2014-12-01 12:00:00', '2014-03-01 12:00:00',\n",
       "               '2014-06-01 12:00:00', '2014-09-01 12:00:00'],\n",
       "              dtype='datetime64[ns]', freq=None)"
      ]
     },
     "execution_count": 4,
     "metadata": {},
     "output_type": "execute_result"
    }
   ],
   "source": [
    "datetime=bc.getdatetimeindex()\n",
    "datetime"
   ]
  },
  {
   "cell_type": "code",
   "execution_count": 5,
   "metadata": {},
   "outputs": [],
   "source": [
    "datalist=[]\n",
    "for i in range(4):\n",
    "    datalist.append(bc.getarr(i))"
   ]
  },
  {
   "cell_type": "code",
   "execution_count": 6,
   "metadata": {},
   "outputs": [
    {
     "data": {
      "text/plain": [
       "(36, 64, 128)"
      ]
     },
     "execution_count": 6,
     "metadata": {},
     "output_type": "execute_result"
    }
   ],
   "source": [
    "datalist[0].shape"
   ]
  },
  {
   "cell_type": "code",
   "execution_count": 7,
   "metadata": {},
   "outputs": [],
   "source": [
    "gtool.to_gtool(datalist=datalist,datetimeindex=datetime)"
   ]
  },
  {
   "cell_type": "code",
   "execution_count": null,
   "metadata": {},
   "outputs": [],
   "source": [
    "for dt in datetime:\n",
    "    print(dt)"
   ]
  },
  {
   "cell_type": "code",
   "execution_count": null,
   "metadata": {},
   "outputs": [],
   "source": [
    "dt.strftime('%Y%m%d 000000')"
   ]
  },
  {
   "cell_type": "code",
   "execution_count": null,
   "metadata": {},
   "outputs": [],
   "source": [
    "gtool.data['header'].shape"
   ]
  },
  {
   "cell_type": "code",
   "execution_count": null,
   "metadata": {},
   "outputs": [],
   "source": []
  }
 ],
 "metadata": {
  "kernelspec": {
   "display_name": "py36work",
   "language": "python",
   "name": "py36work"
  },
  "language_info": {
   "codemirror_mode": {
    "name": "ipython",
    "version": 3
   },
   "file_extension": ".py",
   "mimetype": "text/x-python",
   "name": "python",
   "nbconvert_exporter": "python",
   "pygments_lexer": "ipython3",
   "version": "3.6.8"
  },
  "toc": {
   "base_numbering": 1,
   "nav_menu": {},
   "number_sections": true,
   "sideBar": true,
   "skip_h1_title": false,
   "title_cell": "Table of Contents",
   "title_sidebar": "Contents",
   "toc_cell": false,
   "toc_position": {
    "height": "calc(100% - 180px)",
    "left": "10px",
    "top": "150px",
    "width": "277.246px"
   },
   "toc_section_display": true,
   "toc_window_display": false
  }
 },
 "nbformat": 4,
 "nbformat_minor": 2
}
