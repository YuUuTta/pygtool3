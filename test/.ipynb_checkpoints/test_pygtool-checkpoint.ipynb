{
 "cells": [
  {
   "cell_type": "code",
   "execution_count": 3,
   "metadata": {},
   "outputs": [],
   "source": [
    "import sys\n",
    "sys.path.append('../pygtool3/')\n",
    "import pygtool\n",
    "import matplotlib.pyplot as plt\n",
    "import cartopy.crs as ccrs\n",
    "import numpy as np\n",
    "import pandas as pd"
   ]
  },
  {
   "cell_type": "markdown",
   "metadata": {},
   "source": [
    "# read 2D and 3D data "
   ]
  },
  {
   "cell_type": "code",
   "execution_count": 4,
   "metadata": {},
   "outputs": [],
   "source": [
    "bc=pygtool.read3d('./sampledata/mc_bc.clim',count=4)\n",
    "ps=pygtool.read2d('./sampledata/ps.clim',count=4)\n",
    "t=pygtool.read3d('./sampledata/T.clim',count=4)"
   ]
  },
  {
   "cell_type": "code",
   "execution_count": 3,
   "metadata": {},
   "outputs": [
    {
     "name": "stdout",
     "output_type": "stream",
     "text": [
      "get model values\n",
      "(36, 64, 128)\n",
      "(64, 128)\n",
      "(36, 64, 129)\n"
     ]
    }
   ],
   "source": [
    "print('get model values')\n",
    "print(bc.getarr().shape)\n",
    "print(ps.getarr(timestep=1).shape)\n",
    "print(t.getarr(cyclic=True).shape)"
   ]
  },
  {
   "cell_type": "code",
   "execution_count": 4,
   "metadata": {},
   "outputs": [
    {
     "name": "stdout",
     "output_type": "stream",
     "text": [
      "get_Datetimeindex\n",
      "DatetimeIndex(['2014-12-01 12:00:00', '2014-03-01 12:00:00',\n",
      "               '2014-06-01 12:00:00', '2014-09-01 12:00:00'],\n",
      "              dtype='datetime64[ns]', freq=None)\n",
      "2014-12-01T12:00:00\n",
      "2014-03-01T12:00:00\n",
      "2014-06-01T12:00:00\n",
      "2014-09-01T12:00:00\n"
     ]
    }
   ],
   "source": [
    "print('get_Datetimeindex')\n",
    "print(bc.getdatetimeindex())\n",
    "for i in range(4):\n",
    "    print(bc.getdate(timestep=i))"
   ]
  },
  {
   "cell_type": "code",
   "execution_count": 5,
   "metadata": {},
   "outputs": [
    {
     "name": "stdout",
     "output_type": "stream",
     "text": [
      "get all data into array\n",
      "3D (4, 36, 64, 129)\n",
      "2D (4, 64, 128)\n"
     ]
    }
   ],
   "source": [
    "print('get all data into array')\n",
    "print('3D',bc.getarrays(cyclic=True).shape)\n",
    "print('2D',ps.getarrays().shape)"
   ]
  },
  {
   "cell_type": "markdown",
   "metadata": {},
   "source": [
    "# read model coordinate\n",
    "## horizontal"
   ]
  },
  {
   "cell_type": "code",
   "execution_count": 6,
   "metadata": {},
   "outputs": [
    {
     "name": "stdout",
     "output_type": "stream",
     "text": [
      "read t42\n",
      "constructor\n",
      "<pygtool_core.GtoolGrid object at 0x2ab1afa577b8>\n",
      "(128,) (64,) (129,) (64,)\n",
      "(64, 128) (64, 128)\n",
      "area caliculation\n",
      "509904363781790.75\n",
      "\n",
      "read t85\n",
      "<pygtool_core.GtoolGrid object at 0x2ab1afa57a58>\n",
      "(256,) (128,) (257,) (128,)\n",
      "(128, 256) (128, 256)\n",
      "area caliculation\n",
      "509904363781790.7\n"
     ]
    }
   ],
   "source": [
    "print('read t42')\n",
    "grid=pygtool.readgrid()\n",
    "print('constructor')\n",
    "print(grid)\n",
    "lon,lat=grid.getlonlat()\n",
    "lonm,latm=grid.getlonlat(cyclic=True)\n",
    "print(lon.shape,lat.shape,lonm.shape,latm.shape)\n",
    "xx,yy=grid.getmesh()\n",
    "print(xx.shape,yy.shape)\n",
    "print('area caliculation')\n",
    "area=grid.getarea()\n",
    "print(area.sum())\n",
    "\n",
    "print('\\nread t85')\n",
    "grid2=pygtool.readgrid(lonfile='GTAXLOC.GLON256',latfile='GTAXLOC.GGLA128',x=256,y=128)\n",
    "print(grid2)\n",
    "lon2,lat2=grid2.getlonlat()\n",
    "lonm2,latm2=grid2.getlonlat(cyclic=True)\n",
    "print(lon2.shape,lat2.shape,lonm2.shape,latm2.shape)\n",
    "xx2,yy2=grid2.getmesh()\n",
    "print(xx2.shape,yy2.shape)\n",
    "print('area caliculation')\n",
    "area2=grid2.getarea()\n",
    "print(area2.sum())"
   ]
  },
  {
   "cell_type": "markdown",
   "metadata": {},
   "source": [
    "## vertical(sigma)"
   ]
  },
  {
   "cell_type": "code",
   "execution_count": null,
   "metadata": {},
   "outputs": [],
   "source": []
  },
  {
   "cell_type": "code",
   "execution_count": 7,
   "metadata": {},
   "outputs": [
    {
     "name": "stdout",
     "output_type": "stream",
     "text": [
      "vertical coordinate layer 36\n",
      "<pygtool_core.GtoolSigma object at 0x2ab1afa62080>\n",
      "get pressure by ps(Gtool2d)\n",
      "1005.05066\n",
      "get pressure by ps(numpy.ndarray)\n",
      "1005.05066\n",
      "\n",
      " layer57\n",
      "get pressure by ps(Gtool2d)\n",
      "1005.04877\n",
      "get pressure by ps(numpy.ndarray)\n",
      "1005.04877\n"
     ]
    }
   ],
   "source": [
    "print('vertical coordinate layer 36')\n",
    "sigma=pygtool.readsigma()\n",
    "print(sigma)\n",
    "print('get pressure by ps(Gtool2d)')\n",
    "print(sigma.get_pressure(ps,timestep=1)[0,0,0])\n",
    "print('get pressure by ps(numpy.ndarray)')\n",
    "print(sigma.get_pressure(ps.getarr(timestep=1))[0,0,0])\n",
    "\n",
    "print('\\n layer57')\n",
    "sigma2=pygtool.readsigma(z=57,gtaxfile='GTAXLOC.CETA57')\n",
    "print('get pressure by ps(Gtool2d)')\n",
    "print(sigma2.get_pressure(ps,timestep=1)[0,0,0])\n",
    "print('get pressure by ps(numpy.ndarray)')\n",
    "print(sigma2.get_pressure(ps.getarr(timestep=1))[0,0,0])"
   ]
  },
  {
   "cell_type": "markdown",
   "metadata": {},
   "source": [
    "## vertical(P)"
   ]
  },
  {
   "cell_type": "code",
   "execution_count": 24,
   "metadata": {},
   "outputs": [
    {
     "name": "stdout",
     "output_type": "stream",
     "text": [
      "vertical coodinate(P-grid)\n",
      "<pygtool_core.GtoolPressure object at 0x2ab1e44bc128>\n",
      "get pressure\n",
      "[1.00e+03 9.25e+02 8.50e+02 7.00e+02 6.00e+02 5.00e+02 4.00e+02 3.00e+02\n",
      " 2.50e+02 2.00e+02 1.70e+02 1.50e+02 1.30e+02 1.15e+02 1.00e+02 9.00e+01\n",
      " 8.00e+01 7.00e+01 5.00e+01 3.00e+01 2.00e+01 1.50e+01 1.00e+01 7.00e+00\n",
      " 5.00e+00 3.00e+00 2.00e+00 1.50e+00 1.00e+00 5.00e-01 3.00e-01 2.00e-01\n",
      " 1.00e-01 5.00e-02 3.00e-02]\n"
     ]
    }
   ],
   "source": [
    "print('vertical coodinate(P-grid)')\n",
    "P=pygtool.readpressure()\n",
    "print(P)\n",
    "print('get pressure')\n",
    "print(P.get_pressure()[:,0,0])"
   ]
  },
  {
   "cell_type": "code",
   "execution_count": 23,
   "metadata": {},
   "outputs": [
    {
     "name": "stdout",
     "output_type": "stream",
     "text": [
      "vertical coodinate(P-grid,boundary) \n",
      "<pygtool_core.GtoolPressure object at 0x2ab1e4540278>\n",
      "get dp\n",
      "[-3.82307739e+01 -7.50618286e+01 -1.15344971e+02 -1.23288452e+02\n",
      " -1.00351501e+02 -1.00508881e+02 -1.00803406e+02 -7.25488892e+01\n",
      " -5.02545013e+01 -3.92158966e+01 -2.47037048e+01 -2.00447998e+01\n",
      " -1.73721924e+01 -1.50322037e+01 -1.23696823e+01 -1.00155029e+01\n",
      " -1.00196609e+01 -1.56723633e+01 -2.04309578e+01 -1.42349319e+01\n",
      " -7.17438889e+00 -5.07306099e+00 -3.88085079e+00 -2.45051908e+00\n",
      " -2.04309702e+00 -1.42349291e+00 -7.17439055e-01 -5.07305980e-01\n",
      " -5.17638326e-01 -3.19808424e-01 -1.42349288e-01 -1.03527606e-01\n",
      " -7.07107112e-02 -3.19808461e-02 -2.87298355e-02]\n"
     ]
    }
   ],
   "source": [
    "print('vertical coodinate(P-grid,boundary) ')\n",
    "PM=pygtool.readpressure(z=36,gtaxfile='GTAXLOC.AR5PL35.M')\n",
    "print(PM)\n",
    "print('get dp')\n",
    "print(PM.get_dp()[:,0,0])"
   ]
  },
  {
   "cell_type": "code",
   "execution_count": null,
   "metadata": {},
   "outputs": [],
   "source": []
  },
  {
   "cell_type": "markdown",
   "metadata": {},
   "source": [
    "# gtool3 => xarray"
   ]
  },
  {
   "cell_type": "code",
   "execution_count": 8,
   "metadata": {},
   "outputs": [
    {
     "data": {
      "text/plain": [
       "<xarray.Dataset>\n",
       "Dimensions:  (lat: 64, lon: 128, sigma: 36, time: 4)\n",
       "Coordinates:\n",
       "  * time     (time) datetime64[ns] 2014-12-01T12:00:00 ... 2014-09-01T12:00:00\n",
       "  * sigma    (sigma) >f4 0.994997 0.97998786 ... 0.0018815934 0.0004999615\n",
       "  * lat      (lat) >f4 87.8638 85.09653 82.31291 ... -85.09653 -87.8638\n",
       "  * lon      (lon) >f4 0.0 2.8125 5.625 8.4375 ... 351.5625 354.375 357.1875\n",
       "Data variables:\n",
       "    CONBT    (time, sigma, lat, lon) float64 3.751e-11 3.753e-11 ... 2.688e-15\n",
       "Attributes:\n",
       "    creator:     onishi\n",
       "    Convention:  COARDS\n",
       "    title:       TM\n",
       "    unit:        kg/m**3"
      ]
     },
     "execution_count": 8,
     "metadata": {},
     "output_type": "execute_result"
    }
   ],
   "source": [
    "ds=bc.to_xarray(lon=lon,lat=lat,sigma=sigma.ss,creator='onishi')\n",
    "ds"
   ]
  },
  {
   "cell_type": "code",
   "execution_count": 9,
   "metadata": {},
   "outputs": [
    {
     "data": {
      "text/plain": [
       "<matplotlib.contour.QuadContourSet at 0x2ab1b9e08e80>"
      ]
     },
     "execution_count": 9,
     "metadata": {},
     "output_type": "execute_result"
    },
    {
     "data": {
      "image/png": "[encoded data removed]",
      "text/plain": [
       "<Figure size 720x360 with 2 Axes>"
      ]
     },
     "metadata": {},
     "output_type": "display_data"
    }
   ],
   "source": [
    "fig=plt.figure(figsize=(10,5),facecolor='w')\n",
    "ax=fig.add_subplot(1,1,1,projection=ccrs.PlateCarree(central_longitude=180))\n",
    "pygtool.ckit.set_geogrid(ax)\n",
    "ds['CONBT'].isel(time=2,sigma=0).plot.contourf(ax=ax,transform=ccrs.PlateCarree())\n"
   ]
  },
  {
   "cell_type": "code",
   "execution_count": 10,
   "metadata": {},
   "outputs": [
    {
     "data": {
      "text/plain": [
       "DatetimeIndex(['2014-12-01 12:00:00', '2014-03-01 12:00:00',\n",
       "               '2014-06-01 12:00:00', '2014-09-01 12:00:00'],\n",
       "              dtype='datetime64[ns]', freq=None)"
      ]
     },
     "execution_count": 10,
     "metadata": {},
     "output_type": "execute_result"
    }
   ],
   "source": [
    "bc.getdatetimeindex()"
   ]
  },
  {
   "cell_type": "code",
   "execution_count": 11,
   "metadata": {},
   "outputs": [
    {
     "data": {
      "text/plain": [
       "<pygtool_core.GtoolPressure at 0x2ab1ba0284a8>"
      ]
     },
     "execution_count": 11,
     "metadata": {},
     "output_type": "execute_result"
    }
   ],
   "source": [
    "P=pygtool.readpressure()\n",
    "P"
   ]
  },
  {
   "cell_type": "code",
   "execution_count": 12,
   "metadata": {},
   "outputs": [
    {
     "data": {
      "text/plain": [
       "(35, 1, 1)"
      ]
     },
     "execution_count": 12,
     "metadata": {},
     "output_type": "execute_result"
    }
   ],
   "source": [
    "P.get_pressure().shape"
   ]
  },
  {
   "cell_type": "code",
   "execution_count": 15,
   "metadata": {},
   "outputs": [],
   "source": [
    "PM=pygtool.readpressure(z=36,gtaxfile='GTAXLOC.AR5PL35.M')"
   ]
  },
  {
   "cell_type": "code",
   "execution_count": 16,
   "metadata": {},
   "outputs": [
    {
     "data": {
      "text/plain": [
       "(35, 1, 1)"
      ]
     },
     "execution_count": 16,
     "metadata": {},
     "output_type": "execute_result"
    }
   ],
   "source": [
    "PM.get_dp().shape"
   ]
  },
  {
   "cell_type": "markdown",
   "metadata": {},
   "source": [
    "# python =>gtool"
   ]
  },
  {
   "cell_type": "code",
   "execution_count": 6,
   "metadata": {},
   "outputs": [],
   "source": [
    "a=0"
   ]
  },
  {
   "cell_type": "code",
   "execution_count": null,
   "metadata": {},
   "outputs": [],
   "source": []
  }
 ],
 "metadata": {
  "kernelspec": {
   "display_name": "py36work",
   "language": "python",
   "name": "py36work"
  },
  "language_info": {
   "codemirror_mode": {
    "name": "ipython",
    "version": 3
   },
   "file_extension": ".py",
   "mimetype": "text/x-python",
   "name": "python",
   "nbconvert_exporter": "python",
   "pygments_lexer": "ipython3",
   "version": "3.6.8"
  },
  "toc": {
   "base_numbering": 1,
   "nav_menu": {},
   "number_sections": true,
   "sideBar": true,
   "skip_h1_title": false,
   "title_cell": "Table of Contents",
   "title_sidebar": "Contents",
   "toc_cell": false,
   "toc_position": {},
   "toc_section_display": true,
   "toc_window_display": false
  }
 },
 "nbformat": 4,
 "nbformat_minor": 2
}
